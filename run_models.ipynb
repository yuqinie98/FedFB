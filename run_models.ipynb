{
 "cells": [
  {
   "cell_type": "code",
   "execution_count": 1,
   "id": "7f2335da-abd5-4101-a5c0-ee9c8595976e",
   "metadata": {
    "tags": []
   },
   "outputs": [],
   "source": [
    "import torch\n",
    "import torch.nn as nn\n",
    "import torch.optim as optim\n",
    "import numpy as np\n",
    "\n",
    "from util import *\n",
    "from model import SimpleCNN, Net\n",
    "from train import train, test\n",
    "from load_data import load_data"
   ]
  },
  {
   "cell_type": "code",
   "execution_count": 2,
   "id": "7a30a442-0a22-4ba5-abe0-a2151f953f8f",
   "metadata": {
    "tags": []
   },
   "outputs": [],
   "source": [
    "# Set the random seed\n",
    "seed = 42\n",
    "set_seed(seed)\n",
    "\n",
    "# Hyperparameters\n",
    "batch_size = 100\n",
    "learning_rate = 0.001"
   ]
  },
  {
   "cell_type": "code",
   "execution_count": 3,
   "id": "5498defd-1e01-40b8-b007-56a4aa3c394e",
   "metadata": {
    "tags": []
   },
   "outputs": [
    {
     "name": "stdout",
     "output_type": "stream",
     "text": [
      "Training set size: 60000\n",
      "Test set size: 10000\n",
      "Random subset size: 10000\n"
     ]
    }
   ],
   "source": [
    "train_loader, test_loader = load_data(batch_size, train_size=10000)"
   ]
  },
  {
   "cell_type": "code",
   "execution_count": 4,
   "id": "2359e35c-ad22-4f0b-84b3-acecbc483030",
   "metadata": {},
   "outputs": [
    {
     "name": "stdout",
     "output_type": "stream",
     "text": [
      "total parameters =  44426\n",
      "conv1.weight 150\n",
      "conv1.bias 6\n",
      "conv2.weight 2400\n",
      "conv2.bias 16\n",
      "fc1.weight 30720\n",
      "fc1.bias 120\n",
      "fc2.weight 10080\n",
      "fc2.bias 84\n",
      "fc3.weight 840\n",
      "fc3.bias 10\n",
      "None\n"
     ]
    }
   ],
   "source": [
    "net = SimpleCNN()\n",
    "print('total parameters = ', count_parameters(net))\n",
    "print(count_detailed_parameters(net))"
   ]
  },
  {
   "cell_type": "code",
   "execution_count": 5,
   "id": "2451de70-5acd-4fe1-934a-d6a877a9a2b5",
   "metadata": {
    "tags": []
   },
   "outputs": [],
   "source": [
    "def run_one_model(num_epochs, top_percent, buffer):\n",
    "    net = SimpleCNN()\n",
    "    criterion = nn.CrossEntropyLoss()\n",
    "    optimizer = optim.Adam(net.parameters(), lr=learning_rate)\n",
    "    train(num_epochs, top_percent, train_loader, optimizer, criterion, net, buffer)\n",
    "    test(test_loader, net)"
   ]
  },
  {
   "cell_type": "code",
   "execution_count": 6,
   "id": "4ec64209-f153-465f-b86b-a9a278351a3e",
   "metadata": {
    "tags": []
   },
   "outputs": [
    {
     "name": "stdout",
     "output_type": "stream",
     "text": [
      "Epoch 1, Loss: 1.032550410926342\n",
      "Finished Training\n",
      "Accuracy of the network on the 10000 test images: 89.06 %\n"
     ]
    }
   ],
   "source": [
    "run_one_model(num_epochs = 1, top_percent = 1, buffer = False)"
   ]
  },
  {
   "cell_type": "code",
   "execution_count": 7,
   "id": "67994b3b-02a7-4552-a203-023670c40782",
   "metadata": {
    "tags": []
   },
   "outputs": [
    {
     "name": "stdout",
     "output_type": "stream",
     "text": [
      "Epoch 1, Loss: 1.0151214063167573\n",
      "Finished Training\n",
      "Accuracy of the network on the 10000 test images: 90.85 %\n"
     ]
    }
   ],
   "source": [
    "run_one_model(num_epochs = 1, top_percent = 1, buffer = True)"
   ]
  },
  {
   "cell_type": "code",
   "execution_count": 8,
   "id": "478cf2d6-626a-409f-8571-8c535eadfbff",
   "metadata": {
    "tags": []
   },
   "outputs": [
    {
     "name": "stdout",
     "output_type": "stream",
     "text": [
      "Epoch 1, Loss: 1.4802283024787903\n",
      "Epoch 2, Loss: 0.4058843572437763\n",
      "Epoch 3, Loss: 0.2830019787698984\n",
      "Epoch 4, Loss: 0.22271416909992695\n",
      "Epoch 5, Loss: 0.18379045516252518\n",
      "Epoch 6, Loss: 0.15532390549778938\n",
      "Epoch 7, Loss: 0.14424103852361442\n",
      "Epoch 8, Loss: 0.12192477211356163\n",
      "Epoch 9, Loss: 0.11260970402508974\n",
      "Epoch 10, Loss: 0.09598336612805725\n",
      "Finished Training\n",
      "Accuracy of the network on the 10000 test images: 96.78 %\n"
     ]
    }
   ],
   "source": [
    "run_one_model(num_epochs = 10, top_percent = 0.1, buffer = False)"
   ]
  },
  {
   "cell_type": "code",
   "execution_count": 9,
   "id": "aebac514-2767-49e3-9e4d-16b4c64798fe",
   "metadata": {
    "tags": []
   },
   "outputs": [
    {
     "name": "stdout",
     "output_type": "stream",
     "text": [
      "Epoch 1, Loss: 1.428523460328579\n",
      "Epoch 2, Loss: 0.40596777468919754\n",
      "Epoch 3, Loss: 0.26923824988305567\n",
      "Epoch 4, Loss: 0.20469819590449334\n",
      "Epoch 5, Loss: 0.1596064092963934\n",
      "Epoch 6, Loss: 0.12595586910843848\n",
      "Epoch 7, Loss: 0.12369736865162849\n",
      "Epoch 8, Loss: 0.09092812752351165\n",
      "Epoch 9, Loss: 0.07613504100590944\n",
      "Epoch 10, Loss: 0.07511619330383837\n",
      "Finished Training\n",
      "Accuracy of the network on the 10000 test images: 97.58 %\n"
     ]
    }
   ],
   "source": [
    "run_one_model(num_epochs = 10, top_percent = 0.1, buffer = True)"
   ]
  }
 ],
 "metadata": {
  "kernelspec": {
   "display_name": "Python 3 (ipykernel)",
   "language": "python",
   "name": "python3"
  },
  "language_info": {
   "codemirror_mode": {
    "name": "ipython",
    "version": 3
   },
   "file_extension": ".py",
   "mimetype": "text/x-python",
   "name": "python",
   "nbconvert_exporter": "python",
   "pygments_lexer": "ipython3",
   "version": "3.8.10"
  }
 },
 "nbformat": 4,
 "nbformat_minor": 5
}
